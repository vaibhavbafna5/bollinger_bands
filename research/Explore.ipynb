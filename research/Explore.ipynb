{
 "cells": [
  {
   "cell_type": "code",
   "execution_count": 4,
   "metadata": {},
   "outputs": [],
   "source": [
    "import yfinance as yf"
   ]
  },
  {
   "cell_type": "code",
   "execution_count": 23,
   "metadata": {},
   "outputs": [
    {
     "data": {
      "text/html": [
       "<div>\n",
       "<style scoped>\n",
       "    .dataframe tbody tr th:only-of-type {\n",
       "        vertical-align: middle;\n",
       "    }\n",
       "\n",
       "    .dataframe tbody tr th {\n",
       "        vertical-align: top;\n",
       "    }\n",
       "\n",
       "    .dataframe thead th {\n",
       "        text-align: right;\n",
       "    }\n",
       "</style>\n",
       "<table border=\"1\" class=\"dataframe\">\n",
       "  <thead>\n",
       "    <tr style=\"text-align: right;\">\n",
       "      <th></th>\n",
       "      <th>Open</th>\n",
       "      <th>High</th>\n",
       "      <th>Low</th>\n",
       "      <th>Close</th>\n",
       "      <th>Volume</th>\n",
       "      <th>Dividends</th>\n",
       "      <th>Stock Splits</th>\n",
       "      <th>Capital Gains</th>\n",
       "    </tr>\n",
       "    <tr>\n",
       "      <th>Date</th>\n",
       "      <th></th>\n",
       "      <th></th>\n",
       "      <th></th>\n",
       "      <th></th>\n",
       "      <th></th>\n",
       "      <th></th>\n",
       "      <th></th>\n",
       "      <th></th>\n",
       "    </tr>\n",
       "  </thead>\n",
       "  <tbody>\n",
       "    <tr>\n",
       "      <th>2018-05-18 00:00:00-04:00</th>\n",
       "      <td>225.156793</td>\n",
       "      <td>225.445544</td>\n",
       "      <td>224.579307</td>\n",
       "      <td>224.913162</td>\n",
       "      <td>1702800</td>\n",
       "      <td>0.0</td>\n",
       "      <td>0.0</td>\n",
       "      <td>0.0</td>\n",
       "    </tr>\n",
       "    <tr>\n",
       "      <th>2018-05-21 00:00:00-04:00</th>\n",
       "      <td>226.275595</td>\n",
       "      <td>227.096698</td>\n",
       "      <td>225.968794</td>\n",
       "      <td>226.564331</td>\n",
       "      <td>1262900</td>\n",
       "      <td>0.0</td>\n",
       "      <td>0.0</td>\n",
       "      <td>0.0</td>\n",
       "    </tr>\n",
       "    <tr>\n",
       "      <th>2018-05-22 00:00:00-04:00</th>\n",
       "      <td>227.087727</td>\n",
       "      <td>227.331358</td>\n",
       "      <td>225.671086</td>\n",
       "      <td>225.914703</td>\n",
       "      <td>1055400</td>\n",
       "      <td>0.0</td>\n",
       "      <td>0.0</td>\n",
       "      <td>0.0</td>\n",
       "    </tr>\n",
       "    <tr>\n",
       "      <th>2018-05-23 00:00:00-04:00</th>\n",
       "      <td>224.786769</td>\n",
       "      <td>226.618484</td>\n",
       "      <td>224.633376</td>\n",
       "      <td>226.618484</td>\n",
       "      <td>1484100</td>\n",
       "      <td>0.0</td>\n",
       "      <td>0.0</td>\n",
       "      <td>0.0</td>\n",
       "    </tr>\n",
       "    <tr>\n",
       "      <th>2018-05-24 00:00:00-04:00</th>\n",
       "      <td>226.248548</td>\n",
       "      <td>226.483147</td>\n",
       "      <td>224.461938</td>\n",
       "      <td>226.185379</td>\n",
       "      <td>2025300</td>\n",
       "      <td>0.0</td>\n",
       "      <td>0.0</td>\n",
       "      <td>0.0</td>\n",
       "    </tr>\n",
       "  </tbody>\n",
       "</table>\n",
       "</div>"
      ],
      "text/plain": [
       "                                 Open        High         Low       Close  \\\n",
       "Date                                                                        \n",
       "2018-05-18 00:00:00-04:00  225.156793  225.445544  224.579307  224.913162   \n",
       "2018-05-21 00:00:00-04:00  226.275595  227.096698  225.968794  226.564331   \n",
       "2018-05-22 00:00:00-04:00  227.087727  227.331358  225.671086  225.914703   \n",
       "2018-05-23 00:00:00-04:00  224.786769  226.618484  224.633376  226.618484   \n",
       "2018-05-24 00:00:00-04:00  226.248548  226.483147  224.461938  226.185379   \n",
       "\n",
       "                            Volume  Dividends  Stock Splits  Capital Gains  \n",
       "Date                                                                        \n",
       "2018-05-18 00:00:00-04:00  1702800        0.0           0.0            0.0  \n",
       "2018-05-21 00:00:00-04:00  1262900        0.0           0.0            0.0  \n",
       "2018-05-22 00:00:00-04:00  1055400        0.0           0.0            0.0  \n",
       "2018-05-23 00:00:00-04:00  1484100        0.0           0.0            0.0  \n",
       "2018-05-24 00:00:00-04:00  2025300        0.0           0.0            0.0  "
      ]
     },
     "execution_count": 23,
     "metadata": {},
     "output_type": "execute_result"
    }
   ],
   "source": [
    "ticker_data = yf.Ticker(\"VOO\").history(period=\"6y\")\n",
    "ticker_data.head(5)"
   ]
  },
  {
   "cell_type": "code",
   "execution_count": 24,
   "metadata": {},
   "outputs": [
    {
     "data": {
      "text/html": [
       "<div>\n",
       "<style scoped>\n",
       "    .dataframe tbody tr th:only-of-type {\n",
       "        vertical-align: middle;\n",
       "    }\n",
       "\n",
       "    .dataframe tbody tr th {\n",
       "        vertical-align: top;\n",
       "    }\n",
       "\n",
       "    .dataframe thead th {\n",
       "        text-align: right;\n",
       "    }\n",
       "</style>\n",
       "<table border=\"1\" class=\"dataframe\">\n",
       "  <thead>\n",
       "    <tr style=\"text-align: right;\">\n",
       "      <th></th>\n",
       "      <th>Open</th>\n",
       "      <th>High</th>\n",
       "      <th>Low</th>\n",
       "      <th>Close</th>\n",
       "      <th>Volume</th>\n",
       "      <th>Dividends</th>\n",
       "      <th>Stock Splits</th>\n",
       "      <th>Capital Gains</th>\n",
       "    </tr>\n",
       "    <tr>\n",
       "      <th>Date</th>\n",
       "      <th></th>\n",
       "      <th></th>\n",
       "      <th></th>\n",
       "      <th></th>\n",
       "      <th></th>\n",
       "      <th></th>\n",
       "      <th></th>\n",
       "      <th></th>\n",
       "    </tr>\n",
       "  </thead>\n",
       "  <tbody>\n",
       "    <tr>\n",
       "      <th>2024-05-13 00:00:00-04:00</th>\n",
       "      <td>480.350006</td>\n",
       "      <td>480.420013</td>\n",
       "      <td>477.730011</td>\n",
       "      <td>478.769989</td>\n",
       "      <td>3108400</td>\n",
       "      <td>0.0</td>\n",
       "      <td>0.0</td>\n",
       "      <td>0.0</td>\n",
       "    </tr>\n",
       "    <tr>\n",
       "      <th>2024-05-14 00:00:00-04:00</th>\n",
       "      <td>478.980011</td>\n",
       "      <td>481.470001</td>\n",
       "      <td>478.480011</td>\n",
       "      <td>481.040009</td>\n",
       "      <td>3257700</td>\n",
       "      <td>0.0</td>\n",
       "      <td>0.0</td>\n",
       "      <td>0.0</td>\n",
       "    </tr>\n",
       "    <tr>\n",
       "      <th>2024-05-15 00:00:00-04:00</th>\n",
       "      <td>483.339996</td>\n",
       "      <td>487.230011</td>\n",
       "      <td>482.739990</td>\n",
       "      <td>486.899994</td>\n",
       "      <td>4399500</td>\n",
       "      <td>0.0</td>\n",
       "      <td>0.0</td>\n",
       "      <td>0.0</td>\n",
       "    </tr>\n",
       "    <tr>\n",
       "      <th>2024-05-16 00:00:00-04:00</th>\n",
       "      <td>487.049988</td>\n",
       "      <td>488.570007</td>\n",
       "      <td>485.829987</td>\n",
       "      <td>485.970001</td>\n",
       "      <td>3347400</td>\n",
       "      <td>0.0</td>\n",
       "      <td>0.0</td>\n",
       "      <td>0.0</td>\n",
       "    </tr>\n",
       "    <tr>\n",
       "      <th>2024-05-17 00:00:00-04:00</th>\n",
       "      <td>486.089996</td>\n",
       "      <td>486.730011</td>\n",
       "      <td>484.700012</td>\n",
       "      <td>486.690002</td>\n",
       "      <td>3263700</td>\n",
       "      <td>0.0</td>\n",
       "      <td>0.0</td>\n",
       "      <td>0.0</td>\n",
       "    </tr>\n",
       "  </tbody>\n",
       "</table>\n",
       "</div>"
      ],
      "text/plain": [
       "                                 Open        High         Low       Close  \\\n",
       "Date                                                                        \n",
       "2024-05-13 00:00:00-04:00  480.350006  480.420013  477.730011  478.769989   \n",
       "2024-05-14 00:00:00-04:00  478.980011  481.470001  478.480011  481.040009   \n",
       "2024-05-15 00:00:00-04:00  483.339996  487.230011  482.739990  486.899994   \n",
       "2024-05-16 00:00:00-04:00  487.049988  488.570007  485.829987  485.970001   \n",
       "2024-05-17 00:00:00-04:00  486.089996  486.730011  484.700012  486.690002   \n",
       "\n",
       "                            Volume  Dividends  Stock Splits  Capital Gains  \n",
       "Date                                                                        \n",
       "2024-05-13 00:00:00-04:00  3108400        0.0           0.0            0.0  \n",
       "2024-05-14 00:00:00-04:00  3257700        0.0           0.0            0.0  \n",
       "2024-05-15 00:00:00-04:00  4399500        0.0           0.0            0.0  \n",
       "2024-05-16 00:00:00-04:00  3347400        0.0           0.0            0.0  \n",
       "2024-05-17 00:00:00-04:00  3263700        0.0           0.0            0.0  "
      ]
     },
     "execution_count": 24,
     "metadata": {},
     "output_type": "execute_result"
    }
   ],
   "source": [
    "ticker_data.tail(5)"
   ]
  },
  {
   "cell_type": "code",
   "execution_count": 36,
   "metadata": {},
   "outputs": [
    {
     "data": {
      "text/plain": [
       "115.88955363166093"
      ]
     },
     "execution_count": 36,
     "metadata": {},
     "output_type": "execute_result"
    }
   ],
   "source": [
    "cumulative_return = abs(ticker_data.iloc[-1][\"Open\"] - ticker_data.iloc[0][\"Open\"]) / ticker_data.iloc[0][\"Open\"]\n",
    "cumulative_return * 100"
   ]
  },
  {
   "cell_type": "code",
   "execution_count": 39,
   "metadata": {},
   "outputs": [],
   "source": [
    "def cagr(start, end, time_period):\n",
    "    return ((end / start) ** ((1/time_period))) - 1"
   ]
  },
  {
   "cell_type": "code",
   "execution_count": 40,
   "metadata": {},
   "outputs": [
    {
     "data": {
      "text/plain": [
       "13.685551098488036"
      ]
     },
     "execution_count": 40,
     "metadata": {},
     "output_type": "execute_result"
    }
   ],
   "source": [
    "end = ticker_data.iloc[-1][\"Open\"]\n",
    "start = ticker_data.iloc[0][\"Open\"]\n",
    "\n",
    "annualized_sp_return = cagr(start, end, 6) * 100\n",
    "annualized_sp_return"
   ]
  },
  {
   "cell_type": "code",
   "execution_count": 42,
   "metadata": {},
   "outputs": [
    {
     "data": {
      "text/plain": [
       "11.88815206730245"
      ]
     },
     "execution_count": 42,
     "metadata": {},
     "output_type": "execute_result"
    }
   ],
   "source": [
    "end = 310000\n",
    "start = 158000\n",
    "\n",
    "cagr(start, end, 6) * 100"
   ]
  },
  {
   "cell_type": "code",
   "execution_count": null,
   "metadata": {},
   "outputs": [],
   "source": []
  }
 ],
 "metadata": {
  "kernelspec": {
   "display_name": "venv",
   "language": "python",
   "name": "python3"
  },
  "language_info": {
   "codemirror_mode": {
    "name": "ipython",
    "version": 3
   },
   "file_extension": ".py",
   "mimetype": "text/x-python",
   "name": "python",
   "nbconvert_exporter": "python",
   "pygments_lexer": "ipython3",
   "version": "3.11.2"
  }
 },
 "nbformat": 4,
 "nbformat_minor": 2
}
